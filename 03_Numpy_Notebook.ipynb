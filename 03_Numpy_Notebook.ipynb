{
 "cells": [
  {
   "cell_type": "markdown",
   "id": "a468fa9f",
   "metadata": {},
   "source": [
    "# Getting started with ndarray"
   ]
  },
  {
   "cell_type": "markdown",
   "id": "ed71c9fd",
   "metadata": {},
   "source": [
    "**ndarrays** are time space-efficient multidimensional arrays at the core of numpy. Like the data structure in week 2, let's get started by creating ndarrays using the numpy package."
   ]
  },
  {
   "cell_type": "markdown",
   "id": "69f91dfa",
   "metadata": {},
   "source": [
    "## How to create Rank 1 numpy arrays:"
   ]
  },
  {
   "cell_type": "code",
   "execution_count": 1,
   "id": "afd01cc5",
   "metadata": {},
   "outputs": [
    {
     "name": "stdout",
     "output_type": "stream",
     "text": [
      "<class 'numpy.ndarray'>\n"
     ]
    }
   ],
   "source": [
    "import numpy as np\n",
    "\n",
    "an_array = np.array([3, 33, 333])  # Create a Rank 1 array\n",
    "\n",
    "print(type(an_array))\n",
    "\n",
    "# The type of an array is: \"<class 'numpy.ndarray'>\""
   ]
  },
  {
   "cell_type": "code",
   "execution_count": 2,
   "id": "990716ac",
   "metadata": {},
   "outputs": [
    {
     "name": "stdout",
     "output_type": "stream",
     "text": [
      "(3,)\n"
     ]
    }
   ],
   "source": [
    "# test the shape of the array we just created, it should have one dimmension \n",
    "\n",
    "print(an_array.shape)"
   ]
  },
  {
   "cell_type": "code",
   "execution_count": 5,
   "id": "bd0705c6",
   "metadata": {},
   "outputs": [
    {
     "name": "stdout",
     "output_type": "stream",
     "text": [
      "3 33 333\n"
     ]
    }
   ],
   "source": [
    "# because this is a 1-rank array, we need only use one index to access each element\n",
    "\n",
    "print(an_array[0], an_array[1], an_array[2])"
   ]
  },
  {
   "cell_type": "code",
   "execution_count": 8,
   "id": "2ff64d50",
   "metadata": {},
   "outputs": [
    {
     "name": "stdout",
     "output_type": "stream",
     "text": [
      "[888  33 333]\n"
     ]
    }
   ],
   "source": [
    "an_array[0] = 888\n",
    "\n",
    "print(an_array)"
   ]
  },
  {
   "cell_type": "markdown",
   "id": "c61bca38",
   "metadata": {},
   "source": [
    "# How to create a Rank 2 numpy array"
   ]
  },
  {
   "cell_type": "markdown",
   "id": "d2b5c1ab",
   "metadata": {},
   "source": [
    "A rank 2 **ndarray** is one with two dimensions. Notice the format below of [ [row], [row] ]. 2 dimensionl arrays are great for representing matrics which are often useful in data science."
   ]
  },
  {
   "cell_type": "code",
   "execution_count": 11,
   "id": "afebe99d",
   "metadata": {},
   "outputs": [
    {
     "name": "stdout",
     "output_type": "stream",
     "text": [
      "[[11 12 13]\n",
      " [21 22 23]]\n",
      "The shape is 2 rows, 3 columns:    (2, 3)\n",
      "Accessing elements [0, 0], [0, 1], [1, 0] of the array:  11 12 21\n"
     ]
    }
   ],
   "source": [
    "another = np.array([[11, 12, 13], [21, 22, 23]])      # Create a rank 2 array\n",
    "\n",
    "print(another)   # print the array\n",
    "\n",
    "print(\"The shape is 2 rows, 3 columns:   \", another.shape)   # rows * columns\n",
    "\n",
    "print(\"Accessing elements [0, 0], [0, 1], [1, 0] of the array: \", another[0, 0], another[0, 1], another[1, 0])\n"
   ]
  },
  {
   "cell_type": "markdown",
   "id": "f5db20b6",
   "metadata": {},
   "source": [
    "# There are many ways to create numpy array"
   ]
  },
  {
   "cell_type": "markdown",
   "id": "a9479b87",
   "metadata": {},
   "source": [
    "Here we create a number of different size arrays with different shapes and different pre-filled values. numpy has a number of built in methods which help us quickly and easily create multidimensional arrays."
   ]
  },
  {
   "cell_type": "code",
   "execution_count": 12,
   "id": "aa426eff",
   "metadata": {},
   "outputs": [
    {
     "name": "stdout",
     "output_type": "stream",
     "text": [
      "[[0. 0.]\n",
      " [0. 0.]]\n"
     ]
    }
   ],
   "source": [
    "import numpy as np\n",
    "\n",
    "# create a 2*2 array of zeros\n",
    "\n",
    "ex1 = np.zeros((2, 2))\n",
    "\n",
    "print(ex1)\n"
   ]
  },
  {
   "cell_type": "code",
   "execution_count": 13,
   "id": "7b04ac0e",
   "metadata": {},
   "outputs": [
    {
     "name": "stdout",
     "output_type": "stream",
     "text": [
      "[[9. 9.]\n",
      " [9. 9.]]\n"
     ]
    }
   ],
   "source": [
    "# create a 2*2 array filled with 9.0\n",
    "\n",
    "ex2 = np.full((2 , 2), 9.0)\n",
    "\n",
    "print(ex2)"
   ]
  },
  {
   "cell_type": "code",
   "execution_count": 14,
   "id": "632a3520",
   "metadata": {},
   "outputs": [
    {
     "name": "stdout",
     "output_type": "stream",
     "text": [
      "[[1. 0.]\n",
      " [0. 1.]]\n"
     ]
    }
   ],
   "source": [
    "# create a 2*2 matrics with the diagonal 1s and others 0\n",
    "\n",
    "ex3 = np.eye(2, 2)\n",
    "\n",
    "print(ex3)"
   ]
  },
  {
   "cell_type": "code",
   "execution_count": 17,
   "id": "96d4b754",
   "metadata": {},
   "outputs": [
    {
     "name": "stdout",
     "output_type": "stream",
     "text": [
      "[[1. 1.]]\n"
     ]
    }
   ],
   "source": [
    "# create an array of ones\n",
    "\n",
    "ex4 = np.ones((1, 2))\n",
    "\n",
    "print(ex4)"
   ]
  },
  {
   "cell_type": "code",
   "execution_count": 19,
   "id": "5fb69ab4",
   "metadata": {},
   "outputs": [
    {
     "name": "stdout",
     "output_type": "stream",
     "text": [
      "(1, 2)\n",
      "1.0\n"
     ]
    }
   ],
   "source": [
    "# notice that the above ndarray ex4 is actually rank 2, it is a 2*1 array\n",
    "\n",
    "print(ex4.shape)\n",
    "\n",
    "# which means we need to use two indexes to access an element\n",
    "\n",
    "print(ex4[0, 1])"
   ]
  },
  {
   "cell_type": "code",
   "execution_count": 21,
   "id": "5454dbd6",
   "metadata": {},
   "outputs": [
    {
     "name": "stdout",
     "output_type": "stream",
     "text": [
      "[[0.30209035 0.59783729]\n",
      " [0.24629943 0.91258098]]\n"
     ]
    }
   ],
   "source": [
    "# create an array of random floats between 0 and 1\n",
    "\n",
    "ex5 = np.random.random((2, 2))\n",
    "\n",
    "print(ex5)"
   ]
  },
  {
   "cell_type": "code",
   "execution_count": 22,
   "id": "94059016",
   "metadata": {},
   "outputs": [
    {
     "name": "stdout",
     "output_type": "stream",
     "text": [
      "[[11 12 13]\n",
      " [21 22 23]]\n"
     ]
    }
   ],
   "source": [
    "print(np.array([[11,12,13],[21,22,23]]))"
   ]
  },
  {
   "cell_type": "code",
   "execution_count": 30,
   "id": "f594c53b",
   "metadata": {},
   "outputs": [
    {
     "name": "stdout",
     "output_type": "stream",
     "text": [
      "[[1 2 3]\n",
      " [4 5 6]]\n"
     ]
    }
   ],
   "source": [
    "arr = np.array([[1, 2, 3], [4, 5, 6], [7, 8, 9]])\n",
    "\n",
    "arr[ : 2, ]\n",
    "\n",
    "print(arr[ : 2, ])"
   ]
  },
  {
   "cell_type": "markdown",
   "id": "54fb1d3b",
   "metadata": {},
   "source": [
    "# Array Indexing"
   ]
  },
  {
   "cell_type": "markdown",
   "id": "2ea7b42b",
   "metadata": {},
   "source": [
    "## Slice indexing:"
   ]
  },
  {
   "cell_type": "markdown",
   "id": "25167f0f",
   "metadata": {},
   "source": [
    "Similar to the use of slice indexing with lists and strings, we can use slice indexing to pull out sub-regions of ndarrays."
   ]
  },
  {
   "cell_type": "code",
   "execution_count": 32,
   "id": "68975428",
   "metadata": {},
   "outputs": [
    {
     "name": "stdout",
     "output_type": "stream",
     "text": [
      "[[11 12 13 14]\n",
      " [21 22 23 24]\n",
      " [31 32 33 34]]\n"
     ]
    }
   ],
   "source": [
    "# Rank 2 array of shape (3, 4)\n",
    "\n",
    "an_array = np.array([[11, 12, 13, 14], [21, 22, 23, 24], [31,32, 33, 34]])\n",
    "\n",
    "print(an_array)"
   ]
  },
  {
   "cell_type": "markdown",
   "id": "004d83a6",
   "metadata": {},
   "source": [
    "Use array slicing to get a subarray consisting of the first 2 rows * 2 columns."
   ]
  },
  {
   "cell_type": "code",
   "execution_count": 7,
   "id": "82a2b9ec",
   "metadata": {
    "scrolled": false
   },
   "outputs": [
    {
     "name": "stdout",
     "output_type": "stream",
     "text": [
      "[[11 12 13 14]\n",
      " [21 22 23 24]\n",
      " [31 32 33 34]]\n"
     ]
    }
   ],
   "source": [
    "import numpy as np\n",
    "\n",
    "an_array = np.array([[11, 12, 13, 14], [21, 22, 23, 24], [31,32, 33, 34]])\n",
    "\n",
    "print(an_array)\n"
   ]
  },
  {
   "cell_type": "markdown",
   "id": "12daab80",
   "metadata": {},
   "source": [
    "Use array slicing to get a subarray consisting of the first 2 rows * 2 columns"
   ]
  },
  {
   "cell_type": "code",
   "execution_count": 8,
   "id": "e9ec4722",
   "metadata": {},
   "outputs": [
    {
     "name": "stdout",
     "output_type": "stream",
     "text": [
      "[[12 13]\n",
      " [22 23]]\n"
     ]
    }
   ],
   "source": [
    "a_slice = an_array[ : 2, 1: 3]\n",
    "\n",
    "print(a_slice)"
   ]
  },
  {
   "cell_type": "markdown",
   "id": "cd75f75b",
   "metadata": {},
   "source": [
    "We want to make a copy of an_array"
   ]
  },
  {
   "cell_type": "code",
   "execution_count": 6,
   "id": "10d1a809",
   "metadata": {},
   "outputs": [
    {
     "name": "stdout",
     "output_type": "stream",
     "text": [
      "[[12 13]\n",
      " [22 23]]\n"
     ]
    }
   ],
   "source": [
    "a_slice = np.array(an_array[ : 2, 1: 3])\n",
    "\n",
    "print(a_slice)"
   ]
  },
  {
   "cell_type": "markdown",
   "id": "d7966da5",
   "metadata": {},
   "source": [
    "When we modify a slice, you actually modify the underlying array."
   ]
  },
  {
   "cell_type": "code",
   "execution_count": 9,
   "id": "8f13c9cd",
   "metadata": {},
   "outputs": [
    {
     "name": "stdout",
     "output_type": "stream",
     "text": [
      "Before:  12\n"
     ]
    }
   ],
   "source": [
    "print(\"Before: \", an_array[0, 1])  # inspect the element at 0, 1"
   ]
  },
  {
   "cell_type": "code",
   "execution_count": 10,
   "id": "60c8a844",
   "metadata": {},
   "outputs": [
    {
     "name": "stdout",
     "output_type": "stream",
     "text": [
      "[[1000   13]\n",
      " [  22   23]]\n",
      "After:  1000\n"
     ]
    }
   ],
   "source": [
    "a_slice[0, 0] = 1000   # a_slice[0, 0] is the same piece of data as an_array[0, 1]\n",
    "\n",
    "print(a_slice)\n",
    "\n",
    "print(\"After: \", an_array[0, 1])"
   ]
  },
  {
   "cell_type": "markdown",
   "id": "f38d40ee",
   "metadata": {},
   "source": [
    "# Use both integer indexing and slice indexing"
   ]
  },
  {
   "cell_type": "markdown",
   "id": "39561b11",
   "metadata": {},
   "source": [
    "We can use combinations of integer indexing and slice indexing to create different shaped matrics."
   ]
  },
  {
   "cell_type": "code",
   "execution_count": 11,
   "id": "fa28522f",
   "metadata": {},
   "outputs": [
    {
     "name": "stdout",
     "output_type": "stream",
     "text": [
      "[[11 12 13 14]\n",
      " [21 22 23 24]\n",
      " [31 32 33 34]]\n"
     ]
    }
   ],
   "source": [
    "# Create a Rank 2 array of shape (3, 4)\n",
    "\n",
    "an_array = np.array([[11, 12, 13, 14], [21, 22, 23, 24], [31, 32, 33, 34]])\n",
    "\n",
    "print(an_array)"
   ]
  },
  {
   "cell_type": "code",
   "execution_count": 13,
   "id": "8b5accc5",
   "metadata": {},
   "outputs": [
    {
     "name": "stdout",
     "output_type": "stream",
     "text": [
      "[21 22 23 24] (4,)\n",
      "1\n"
     ]
    }
   ],
   "source": [
    "# Using both integer indexing and slicing generates an array of lower rank\n",
    "\n",
    "row_rank1 = an_array[1, : ]  # Rank 1 view\n",
    "\n",
    "print(row_rank1, row_rank1.shape)  # notice only a single []\n",
    "\n",
    "print(row_rank1.ndim)"
   ]
  },
  {
   "cell_type": "code",
   "execution_count": 14,
   "id": "0df23c0a",
   "metadata": {},
   "outputs": [
    {
     "name": "stdout",
     "output_type": "stream",
     "text": [
      "[[21 22 23 24]] (1, 4)\n",
      "2\n"
     ]
    }
   ],
   "source": [
    "# Slicing alone: generates an array of the same rank as the an_array\n",
    "\n",
    "row_rank2 = an_array[1: 2, : ]   # Rank 2 view\n",
    "\n",
    "print(row_rank2, row_rank2.shape)  # notice the [[]]\n",
    "\n",
    "print(row_rank2.ndim)"
   ]
  },
  {
   "cell_type": "code",
   "execution_count": 18,
   "id": "a76ea49e",
   "metadata": {},
   "outputs": [
    {
     "name": "stdout",
     "output_type": "stream",
     "text": [
      "[12 22 32] (3,)\n",
      "1\n",
      "[[12]\n",
      " [22]\n",
      " [32]] (3, 1)\n",
      "2\n"
     ]
    }
   ],
   "source": [
    "# We can do the same thing for columns of an array\n",
    "\n",
    "col_rank1 = an_array[ : , 1]\n",
    "\n",
    "col_rank2 = an_array[ : , 1: 2]\n",
    "\n",
    "print(col_rank1, col_rank1.shape)  # Rank 1\n",
    "\n",
    "print(col_rank1.ndim)\n",
    "\n",
    "print(col_rank2, col_rank2.shape) # Rank 2\n",
    "\n",
    "print(col_rank2.ndim)"
   ]
  },
  {
   "cell_type": "markdown",
   "id": "b2498995",
   "metadata": {},
   "source": [
    "# Array indexing for chinging elements"
   ]
  },
  {
   "cell_type": "markdown",
   "id": "b0f712c1",
   "metadata": {},
   "source": [
    "Sometimes it's useful to use an array of indexes to access or change elements."
   ]
  },
  {
   "cell_type": "code",
   "execution_count": 19,
   "id": "2868065e",
   "metadata": {},
   "outputs": [
    {
     "name": "stdout",
     "output_type": "stream",
     "text": [
      "Original Array: \n",
      "[[11 12 13]\n",
      " [21 22 23]\n",
      " [31 32 33]\n",
      " [41 42 43]]\n"
     ]
    }
   ],
   "source": [
    "# Create a new array\n",
    "\n",
    "an_array = np.array([[11, 12, 13], [21, 22, 23], [31, 32, 33], [41, 42, 43]])\n",
    "\n",
    "print(\"Original Array: \")\n",
    "\n",
    "print(an_array)"
   ]
  },
  {
   "cell_type": "code",
   "execution_count": 23,
   "id": "c071290a",
   "metadata": {},
   "outputs": [
    {
     "name": "stdout",
     "output_type": "stream",
     "text": [
      "\n",
      "Col indicies picked:  [0 1 2 0]\n",
      "\n",
      "Rows indicies picked:  [0 1 2 3]\n"
     ]
    }
   ],
   "source": [
    "# Create an array of indicies\n",
    "\n",
    "col_indicies= np.array([0, 1, 2, 0])\n",
    "\n",
    "print(\"\\nCol indicies picked: \", col_indicies) \n",
    "\n",
    "row_indicies = np.arange(4)\n",
    "\n",
    "print(\"\\nRows indicies picked: \", row_indicies)"
   ]
  },
  {
   "cell_type": "code",
   "execution_count": 24,
   "id": "21444648",
   "metadata": {},
   "outputs": [
    {
     "name": "stdout",
     "output_type": "stream",
     "text": [
      "0 , 0\n",
      "1 , 1\n",
      "2 , 2\n",
      "3 , 0\n"
     ]
    }
   ],
   "source": [
    "# Examine the pairings of row_indicies and col_indicies\n",
    "\n",
    "for row, col in zip(row_indicies, col_indicies):\n",
    "    print(row, \",\", col)"
   ]
  },
  {
   "cell_type": "code",
   "execution_count": 25,
   "id": "1b9f074d",
   "metadata": {},
   "outputs": [
    {
     "name": "stdout",
     "output_type": "stream",
     "text": [
      "Values in the array at those indicies:  [11 22 33 41]\n"
     ]
    }
   ],
   "source": [
    "# Select one element from each row\n",
    "\n",
    "print(\"Values in the array at those indicies: \", an_array[row_indicies, col_indicies])"
   ]
  },
  {
   "cell_type": "code",
   "execution_count": 26,
   "id": "eeb24d5e",
   "metadata": {},
   "outputs": [
    {
     "name": "stdout",
     "output_type": "stream",
     "text": [
      "\n",
      "Changed Array: \n",
      "[[1011   12   13]\n",
      " [  21 1022   23]\n",
      " [  31   32 1033]\n",
      " [1041   42   43]]\n"
     ]
    }
   ],
   "source": [
    "# Change one element from each row using the indicies selected\n",
    "\n",
    "an_array[row_indicies, col_indicies] += 1000      # add 1000 to an_array for our row and column indicies\n",
    " \n",
    "print(\"\\nChanged Array: \")\n",
    "print(an_array)"
   ]
  },
  {
   "cell_type": "markdown",
   "id": "4c10c9fd",
   "metadata": {},
   "source": [
    "# Boolean Indexing"
   ]
  },
  {
   "cell_type": "markdown",
   "id": "2e15b444",
   "metadata": {},
   "source": [
    "## Array Indexing for changing elements"
   ]
  },
  {
   "cell_type": "code",
   "execution_count": 61,
   "id": "c8a6751f",
   "metadata": {},
   "outputs": [
    {
     "name": "stdout",
     "output_type": "stream",
     "text": [
      "[[11 12]\n",
      " [21 22]\n",
      " [31 32]]\n"
     ]
    }
   ],
   "source": [
    "# Create a 3 * 2 array\n",
    "\n",
    "an_array = np.array([[11, 12], [21, 22], [31, 32]])\n",
    "\n",
    "print(an_array)"
   ]
  },
  {
   "cell_type": "code",
   "execution_count": 62,
   "id": "18b79ca1",
   "metadata": {},
   "outputs": [
    {
     "name": "stdout",
     "output_type": "stream",
     "text": [
      "bool\n"
     ]
    },
    {
     "data": {
      "text/plain": [
       "array([[False, False],\n",
       "       [ True,  True],\n",
       "       [ True,  True]])"
      ]
     },
     "execution_count": 62,
     "metadata": {},
     "output_type": "execute_result"
    }
   ],
   "source": [
    "# Create a filter which will be boolean values for whether each element meets this condtional\n",
    "\n",
    "filter = (an_array > 15)  # Here I'm asking for a filter which will be true for every element greater than 15, and false for every element less than 15.\n",
    "\n",
    "print(filter.dtype)\n",
    "\n",
    "filter\n"
   ]
  },
  {
   "cell_type": "markdown",
   "id": "d2311eb6",
   "metadata": {},
   "source": [
    "### Notice that the filter is a same size ndarray as an_array which is filled with True for each element whose corresponding element in an_array which is greater than 15, and False for those elements whose value is less than 15."
   ]
  },
  {
   "cell_type": "code",
   "execution_count": 63,
   "id": "e10070ca",
   "metadata": {},
   "outputs": [
    {
     "name": "stdout",
     "output_type": "stream",
     "text": [
      "[21 22 31 32]\n"
     ]
    }
   ],
   "source": [
    "# we can now select just those elements which meet that criteria.\n",
    "\n",
    "print(an_array[filter])"
   ]
  },
  {
   "cell_type": "code",
   "execution_count": 64,
   "id": "8f88c571",
   "metadata": {},
   "outputs": [
    {
     "data": {
      "text/plain": [
       "array([21, 22, 31, 32])"
      ]
     },
     "execution_count": 64,
     "metadata": {},
     "output_type": "execute_result"
    }
   ],
   "source": [
    "# For short, we could have just used the approach below\n",
    "\n",
    "an_array[an_array > 15]  # Here I'm asking for for all the values in an_array where an_array is greater than 15. This creates a boolean filter and then applies it all in one step\n"
   ]
  },
  {
   "cell_type": "code",
   "execution_count": 65,
   "id": "fd30a8ff",
   "metadata": {},
   "outputs": [
    {
     "data": {
      "text/plain": [
       "array([21, 22])"
      ]
     },
     "execution_count": 65,
     "metadata": {},
     "output_type": "execute_result"
    }
   ],
   "source": [
    "# We can have even more complex logic here\n",
    "\n",
    "an_array[(an_array > 20) & (an_array < 30)]  # We want to get all the values between 20 and 30"
   ]
  },
  {
   "cell_type": "code",
   "execution_count": 66,
   "id": "8f467968",
   "metadata": {
    "scrolled": true
   },
   "outputs": [
    {
     "data": {
      "text/plain": [
       "array([12, 22, 32])"
      ]
     },
     "execution_count": 66,
     "metadata": {},
     "output_type": "execute_result"
    }
   ],
   "source": [
    "an_array[(an_array % 2 == 0)]"
   ]
  },
  {
   "cell_type": "markdown",
   "id": "abf64036",
   "metadata": {},
   "source": [
    "###  What is particularly useful is that we can change elements in the array applying a similar logical filter. Let's add 100 to all even values"
   ]
  },
  {
   "cell_type": "code",
   "execution_count": 67,
   "id": "37173311",
   "metadata": {},
   "outputs": [
    {
     "name": "stdout",
     "output_type": "stream",
     "text": [
      "[[ 11 112]\n",
      " [ 21 122]\n",
      " [ 31 132]]\n"
     ]
    }
   ],
   "source": [
    "an_array[(an_array % 2 == 0)] += 100\n",
    "\n",
    "print(an_array)"
   ]
  },
  {
   "cell_type": "markdown",
   "id": "fb82e54b",
   "metadata": {},
   "source": [
    "# Datatypes and  Array Operations"
   ]
  },
  {
   "cell_type": "markdown",
   "id": "1e3a4c2b",
   "metadata": {},
   "source": [
    "### Datatypes"
   ]
  },
  {
   "cell_type": "code",
   "execution_count": 2,
   "id": "8aaefdda",
   "metadata": {},
   "outputs": [
    {
     "name": "stdout",
     "output_type": "stream",
     "text": [
      "int32\n"
     ]
    }
   ],
   "source": [
    "import numpy as np\n",
    "\n",
    "ex1 = np.array([11, 12])  # Python assigns the data type\n",
    "\n",
    "print(ex1.dtype)"
   ]
  },
  {
   "cell_type": "code",
   "execution_count": 3,
   "id": "accfe8d8",
   "metadata": {},
   "outputs": [
    {
     "name": "stdout",
     "output_type": "stream",
     "text": [
      "float64\n"
     ]
    }
   ],
   "source": [
    "ex2 = np.array([11.0, 12.0])  # Python assigns the data type\n",
    "\n",
    "print(ex2.dtype)"
   ]
  },
  {
   "cell_type": "code",
   "execution_count": 4,
   "id": "c58acd77",
   "metadata": {},
   "outputs": [
    {
     "name": "stdout",
     "output_type": "stream",
     "text": [
      "int64\n"
     ]
    }
   ],
   "source": [
    "ex3 = np.array([11, 21], dtype = np.int64)  # We can also tell python the data type\n",
    "\n",
    "print(ex3.dtype)"
   ]
  },
  {
   "cell_type": "code",
   "execution_count": 10,
   "id": "fe7a91b5",
   "metadata": {},
   "outputs": [
    {
     "name": "stdout",
     "output_type": "stream",
     "text": [
      "int64\n",
      "\n",
      "[11 12]\n"
     ]
    }
   ],
   "source": [
    "# We can use this to force floats into intgers (using floor function)\n",
    "\n",
    "ex4 = np.array([11.1, 12.7], dtype = np.int64)\n",
    "\n",
    "print(ex4.dtype)\n",
    "print()\n",
    "print(ex4)"
   ]
  },
  {
   "cell_type": "code",
   "execution_count": 9,
   "id": "3124015c",
   "metadata": {},
   "outputs": [
    {
     "name": "stdout",
     "output_type": "stream",
     "text": [
      "float64\n",
      "\n",
      "[11. 21.]\n"
     ]
    }
   ],
   "source": [
    "# We can use this to force intgers into floats if we inticipate the values may change to floats later\n",
    "\n",
    "ex5 = np.array([11, 21], dtype = np.float64)\n",
    "\n",
    "print(ex5.dtype)\n",
    "print()\n",
    "print(ex5)"
   ]
  },
  {
   "cell_type": "markdown",
   "id": "9615d1ac",
   "metadata": {},
   "source": [
    "# Arithmetic Array Operations"
   ]
  },
  {
   "cell_type": "code",
   "execution_count": 13,
   "id": "2e4763ca",
   "metadata": {},
   "outputs": [
    {
     "name": "stdout",
     "output_type": "stream",
     "text": [
      "[[111 112]\n",
      " [121 122]]\n",
      "\n",
      "[[211.1 212.1]\n",
      " [221.1 222.1]]\n"
     ]
    }
   ],
   "source": [
    "x = np.array([[111, 112], [121, 122]], dtype = np.int64)\n",
    "\n",
    "y = np.array([[211.1, 212.1], [221.1, 222.1]], dtype = np.float64)\n",
    "\n",
    "print(x)\n",
    "\n",
    "print()\n",
    "\n",
    "print(y)"
   ]
  },
  {
   "cell_type": "code",
   "execution_count": 14,
   "id": "0522f850",
   "metadata": {},
   "outputs": [
    {
     "name": "stdout",
     "output_type": "stream",
     "text": [
      "[[322.1 324.1]\n",
      " [342.1 344.1]]\n",
      "\n",
      "[[322.1 324.1]\n",
      " [342.1 344.1]]\n"
     ]
    }
   ],
   "source": [
    "# add\n",
    "\n",
    "print(x + y)\n",
    "\n",
    "print()\n",
    "\n",
    "print(np.add(x, y))"
   ]
  },
  {
   "cell_type": "code",
   "execution_count": 15,
   "id": "cce1916c",
   "metadata": {},
   "outputs": [
    {
     "name": "stdout",
     "output_type": "stream",
     "text": [
      "[[-100.1 -100.1]\n",
      " [-100.1 -100.1]]\n",
      "\n",
      "[[-100.1 -100.1]\n",
      " [-100.1 -100.1]]\n"
     ]
    }
   ],
   "source": [
    "# subtract\n",
    "\n",
    "print(x - y)\n",
    "\n",
    "print()\n",
    "\n",
    "print(np.subtract(x, y))"
   ]
  },
  {
   "cell_type": "code",
   "execution_count": 16,
   "id": "81c12bd0",
   "metadata": {},
   "outputs": [
    {
     "name": "stdout",
     "output_type": "stream",
     "text": [
      "[[23432.1 23755.2]\n",
      " [26753.1 27096.2]]\n",
      "\n",
      "[[23432.1 23755.2]\n",
      " [26753.1 27096.2]]\n"
     ]
    }
   ],
   "source": [
    "# multiply \n",
    "\n",
    "print(x * y)\n",
    "\n",
    "print()\n",
    "\n",
    "print(np.multiply(x, y))"
   ]
  },
  {
   "cell_type": "code",
   "execution_count": 17,
   "id": "edca985c",
   "metadata": {},
   "outputs": [
    {
     "name": "stdout",
     "output_type": "stream",
     "text": [
      "[[0.52581715 0.52805281]\n",
      " [0.54726368 0.54930212]]\n",
      "\n",
      "[[0.52581715 0.52805281]\n",
      " [0.54726368 0.54930212]]\n"
     ]
    }
   ],
   "source": [
    "# divide\n",
    "\n",
    "print(x / y)\n",
    "\n",
    "print()\n",
    "\n",
    "print(np.divide(x, y))"
   ]
  },
  {
   "cell_type": "code",
   "execution_count": 20,
   "id": "2ea7295a",
   "metadata": {},
   "outputs": [
    {
     "name": "stdout",
     "output_type": "stream",
     "text": [
      "[[10.53565375 10.58300524]\n",
      " [11.         11.04536102]]\n",
      "\n",
      "[[3.24586718 3.25315312]\n",
      " [3.31662479 3.32345619]]\n"
     ]
    }
   ],
   "source": [
    "# square root\n",
    "\n",
    "print(np.sqrt(x))\n",
    "\n",
    "print()\n",
    "\n",
    "print(np.sqrt(y))"
   ]
  },
  {
   "cell_type": "code",
   "execution_count": 26,
   "id": "07666c74",
   "metadata": {},
   "outputs": [
    {
     "name": "stdout",
     "output_type": "stream",
     "text": [
      "[[1.60948707e+48 4.37503945e+48]\n",
      " [3.54513118e+52 9.63666567e+52]]\n"
     ]
    }
   ],
   "source": [
    "# exponent (e ** x)\n",
    "\n",
    "print(np.exp(x))"
   ]
  },
  {
   "cell_type": "markdown",
   "id": "f7026ea3",
   "metadata": {},
   "source": [
    "# Statistical Methods, Sorting, and Set Operations"
   ]
  },
  {
   "cell_type": "code",
   "execution_count": 30,
   "id": "86fbe9db",
   "metadata": {},
   "outputs": [
    {
     "name": "stdout",
     "output_type": "stream",
     "text": [
      "[[  4.69186257 -13.6243874   -3.94844112  -3.15324258  -0.88305603]\n",
      " [ -6.72271469 -12.18968922 -13.18584077   5.80105329  -2.84868108]]\n"
     ]
    }
   ],
   "source": [
    "# setup a random 2 * 4 matrix\n",
    "\n",
    "arr = 10 * np.random.randn(2, 5)\n",
    "\n",
    "print(arr)"
   ]
  },
  {
   "cell_type": "code",
   "execution_count": 31,
   "id": "e8894baf",
   "metadata": {},
   "outputs": [
    {
     "name": "stdout",
     "output_type": "stream",
     "text": [
      "-4.606313702272989\n"
     ]
    }
   ],
   "source": [
    "# compute the mean for all elements\n",
    "\n",
    "print(arr.mean())"
   ]
  },
  {
   "cell_type": "code",
   "execution_count": 32,
   "id": "693d94fd",
   "metadata": {},
   "outputs": [
    {
     "name": "stdout",
     "output_type": "stream",
     "text": [
      "[-3.38345291 -5.82917449]\n"
     ]
    }
   ],
   "source": [
    "# compute the means by row\n",
    "\n",
    "print(arr.mean(axis = 1))"
   ]
  },
  {
   "cell_type": "code",
   "execution_count": 33,
   "id": "7130719d",
   "metadata": {},
   "outputs": [
    {
     "name": "stdout",
     "output_type": "stream",
     "text": [
      "[ -1.01542606 -12.90703831  -8.56714094   1.32390536  -1.86586855]\n"
     ]
    }
   ],
   "source": [
    "# compute the means by column\n",
    "\n",
    "print(arr.mean(axis = 0))"
   ]
  },
  {
   "cell_type": "code",
   "execution_count": 34,
   "id": "c8d9344e",
   "metadata": {},
   "outputs": [
    {
     "name": "stdout",
     "output_type": "stream",
     "text": [
      "-46.06313702272989\n"
     ]
    }
   ],
   "source": [
    "# sum all the elements\n",
    "\n",
    "print(arr.sum())"
   ]
  },
  {
   "cell_type": "code",
   "execution_count": 36,
   "id": "f81b592b",
   "metadata": {},
   "outputs": [
    {
     "name": "stdout",
     "output_type": "stream",
     "text": [
      "[-3.15324258 -6.72271469]\n"
     ]
    }
   ],
   "source": [
    "# compute the medians\n",
    "\n",
    "print(np.median(arr, axis = 1))"
   ]
  },
  {
   "cell_type": "markdown",
   "id": "6c64222a",
   "metadata": {},
   "source": [
    " # Sorting"
   ]
  },
  {
   "cell_type": "code",
   "execution_count": 37,
   "id": "4bd674b9",
   "metadata": {},
   "outputs": [
    {
     "name": "stdout",
     "output_type": "stream",
     "text": [
      "[ 0.21804786  0.63052725  0.26969099  0.46615905  0.92095434  1.01610562\n",
      " -0.54994331  0.95202477 -0.05781189 -0.54027888]\n"
     ]
    }
   ],
   "source": [
    "# Create a 10 elements of randoms\n",
    "\n",
    "unsorted = np.random.randn(10)\n",
    "\n",
    "print(unsorted)"
   ]
  },
  {
   "cell_type": "code",
   "execution_count": 40,
   "id": "f14e2c5a",
   "metadata": {},
   "outputs": [
    {
     "name": "stdout",
     "output_type": "stream",
     "text": [
      "[-0.54994331 -0.54027888 -0.05781189  0.21804786  0.26969099  0.46615905\n",
      "  0.63052725  0.92095434  0.95202477  1.01610562]\n",
      "\n",
      "[ 0.21804786  0.63052725  0.26969099  0.46615905  0.92095434  1.01610562\n",
      " -0.54994331  0.95202477 -0.05781189 -0.54027888]\n"
     ]
    }
   ],
   "source": [
    "# Create copy and sort\n",
    "\n",
    "sorted = np.array(unsorted)\n",
    "\n",
    "sorted.sort()\n",
    "\n",
    "print(sorted)\n",
    "\n",
    "print()\n",
    "\n",
    "print(unsorted)"
   ]
  },
  {
   "cell_type": "code",
   "execution_count": 41,
   "id": "d6795145",
   "metadata": {},
   "outputs": [
    {
     "name": "stdout",
     "output_type": "stream",
     "text": [
      "[-0.54994331 -0.54027888 -0.05781189  0.21804786  0.26969099  0.46615905\n",
      "  0.63052725  0.92095434  0.95202477  1.01610562]\n"
     ]
    }
   ],
   "source": [
    "# inplace sorting\n",
    "\n",
    "unsorted.sort()\n",
    "\n",
    "print(unsorted)"
   ]
  },
  {
   "cell_type": "markdown",
   "id": "ad51d5db",
   "metadata": {},
   "source": [
    "# Finding Unique elements"
   ]
  },
  {
   "cell_type": "code",
   "execution_count": 42,
   "id": "14501459",
   "metadata": {},
   "outputs": [
    {
     "name": "stdout",
     "output_type": "stream",
     "text": [
      "[1 2 4]\n"
     ]
    }
   ],
   "source": [
    "array = np.array([1, 2, 1, 4, 2, 1, 4, 2])\n",
    "\n",
    "print(np.unique(array))"
   ]
  },
  {
   "cell_type": "markdown",
   "id": "e891a37b",
   "metadata": {},
   "source": [
    "# Set Operations with np.array data type"
   ]
  },
  {
   "cell_type": "code",
   "execution_count": 43,
   "id": "d9f51601",
   "metadata": {},
   "outputs": [
    {
     "name": "stdout",
     "output_type": "stream",
     "text": [
      "['desk' 'chair' 'bulb'] ['lamp' 'bulb' 'chair']\n"
     ]
    }
   ],
   "source": [
    "s1 = np.array(['desk', 'chair', 'bulb'])\n",
    "\n",
    "s2 = np.array(['lamp', 'bulb', 'chair'])\n",
    "\n",
    "print(s1, s2)"
   ]
  },
  {
   "cell_type": "code",
   "execution_count": 44,
   "id": "b3965107",
   "metadata": {},
   "outputs": [
    {
     "name": "stdout",
     "output_type": "stream",
     "text": [
      "['bulb' 'chair']\n"
     ]
    }
   ],
   "source": [
    "print(np.intersect1d(s1, s2))    # The method intersect will give us those elements which are common to both arrays."
   ]
  },
  {
   "cell_type": "code",
   "execution_count": 45,
   "id": "cea6e738",
   "metadata": {},
   "outputs": [
    {
     "name": "stdout",
     "output_type": "stream",
     "text": [
      "['bulb' 'chair' 'desk' 'lamp']\n"
     ]
    }
   ],
   "source": [
    "print(np.union1d(s1, s2))   # The method union will give us all of the unique elements across both arrays"
   ]
  },
  {
   "cell_type": "code",
   "execution_count": 46,
   "id": "54755991",
   "metadata": {},
   "outputs": [
    {
     "name": "stdout",
     "output_type": "stream",
     "text": [
      "['desk']\n"
     ]
    }
   ],
   "source": [
    "print(np.setdiff1d(s1, s2))   # elements in s1 that are not in s2"
   ]
  },
  {
   "cell_type": "code",
   "execution_count": 47,
   "id": "6633af6f",
   "metadata": {},
   "outputs": [
    {
     "name": "stdout",
     "output_type": "stream",
     "text": [
      "[False  True  True]\n"
     ]
    }
   ],
   "source": [
    "print(np.in1d(s1, s2))    #we can get back an array of Booleans for whether each element is in the array or not.  \n",
    "\n",
    "                          # which element of s1 is also in s2"
   ]
  },
  {
   "cell_type": "markdown",
   "id": "32105c78",
   "metadata": {},
   "source": [
    "# Broadcasting"
   ]
  },
  {
   "cell_type": "markdown",
   "id": "1e00e30f",
   "metadata": {},
   "source": [
    "### Form more details, please see:\n",
    "\n",
    "http://docs.scipy.org/doc/numpy/user/basics.broadcasting.html"
   ]
  },
  {
   "cell_type": "code",
   "execution_count": 2,
   "id": "ad06d663",
   "metadata": {},
   "outputs": [
    {
     "name": "stdout",
     "output_type": "stream",
     "text": [
      "[[0. 0. 0.]\n",
      " [0. 0. 0.]\n",
      " [0. 0. 0.]\n",
      " [0. 0. 0.]]\n"
     ]
    }
   ],
   "source": [
    "import numpy as np\n",
    "\n",
    "start = np.zeros((4, 3))\n",
    "\n",
    "print(start)"
   ]
  },
  {
   "cell_type": "code",
   "execution_count": 3,
   "id": "95082b18",
   "metadata": {},
   "outputs": [
    {
     "name": "stdout",
     "output_type": "stream",
     "text": [
      "[1 0 2]\n"
     ]
    }
   ],
   "source": [
    "# Create a rank 1 ndarray with 3 values\n",
    "\n",
    "add_rows = np.array([1, 0, 2])\n",
    "\n",
    "print(add_rows)"
   ]
  },
  {
   "cell_type": "code",
   "execution_count": 4,
   "id": "ff790c8a",
   "metadata": {},
   "outputs": [
    {
     "name": "stdout",
     "output_type": "stream",
     "text": [
      "[[1. 0. 2.]\n",
      " [1. 0. 2.]\n",
      " [1. 0. 2.]\n",
      " [1. 0. 2.]]\n"
     ]
    }
   ],
   "source": [
    "y = start + add_rows  # add the array 'add_rows' to each row of 'start' array using broadcasting\n",
    "\n",
    "print(y)"
   ]
  },
  {
   "cell_type": "code",
   "execution_count": 5,
   "id": "fe5360e9",
   "metadata": {},
   "outputs": [
    {
     "name": "stdout",
     "output_type": "stream",
     "text": [
      "[[0]\n",
      " [1]\n",
      " [2]\n",
      " [3]]\n"
     ]
    }
   ],
   "source": [
    "# Create an ndarray which is  4 * 1  to broadcast across columns\n",
    "\n",
    "add_cols = np.array([[0, 1, 2, 3]])\n",
    "\n",
    "add_cols = add_cols.T\n",
    "\n",
    "print(add_cols)"
   ]
  },
  {
   "cell_type": "code",
   "execution_count": 6,
   "id": "b0a479a1",
   "metadata": {},
   "outputs": [
    {
     "name": "stdout",
     "output_type": "stream",
     "text": [
      "[[0. 0. 0.]\n",
      " [1. 1. 1.]\n",
      " [2. 2. 2.]\n",
      " [3. 3. 3.]]\n"
     ]
    }
   ],
   "source": [
    "# add the array 'add_cols' to each column of 'start' array using broadcasting\n",
    "\n",
    "y = start + add_cols\n",
    "\n",
    "print(y)"
   ]
  },
  {
   "cell_type": "code",
   "execution_count": 7,
   "id": "063c162e",
   "metadata": {},
   "outputs": [
    {
     "name": "stdout",
     "output_type": "stream",
     "text": [
      "[[1. 1. 1.]\n",
      " [1. 1. 1.]\n",
      " [1. 1. 1.]\n",
      " [1. 1. 1.]]\n"
     ]
    }
   ],
   "source": [
    "# this will just broadcast in both dimentions\n",
    "\n",
    "add_scaler = np.array([1])\n",
    "\n",
    "print(start + add_scaler)"
   ]
  },
  {
   "cell_type": "code",
   "execution_count": 8,
   "id": "e9903055",
   "metadata": {},
   "outputs": [
    {
     "name": "stdout",
     "output_type": "stream",
     "text": [
      "[[0 0]\n",
      " [0 0]]\n"
     ]
    }
   ],
   "source": [
    "a = np.array([[0,0],[0,0]])\n",
    "\n",
    "print(a)"
   ]
  },
  {
   "cell_type": "code",
   "execution_count": 9,
   "id": "48db3e13",
   "metadata": {},
   "outputs": [
    {
     "name": "stdout",
     "output_type": "stream",
     "text": [
      "[1 1]\n"
     ]
    }
   ],
   "source": [
    "b1 = np.array([1,1])\n",
    "\n",
    "print(b1)"
   ]
  },
  {
   "cell_type": "code",
   "execution_count": 11,
   "id": "e331ad16",
   "metadata": {},
   "outputs": [
    {
     "name": "stdout",
     "output_type": "stream",
     "text": [
      "1\n"
     ]
    }
   ],
   "source": [
    "b2 = 1\n",
    "\n",
    "print(b2)"
   ]
  },
  {
   "cell_type": "code",
   "execution_count": 12,
   "id": "4a3917fa",
   "metadata": {},
   "outputs": [
    {
     "name": "stdout",
     "output_type": "stream",
     "text": [
      "[[1 1]\n",
      " [1 1]]\n"
     ]
    }
   ],
   "source": [
    "x = a + b1\n",
    "\n",
    "print(x)"
   ]
  },
  {
   "cell_type": "code",
   "execution_count": 13,
   "id": "87327e7a",
   "metadata": {},
   "outputs": [
    {
     "name": "stdout",
     "output_type": "stream",
     "text": [
      "[[1 1]\n",
      " [1 1]]\n"
     ]
    }
   ],
   "source": [
    "y = a + b2 \n",
    "\n",
    "print(y)"
   ]
  },
  {
   "cell_type": "markdown",
   "id": "d9f01832",
   "metadata": {},
   "source": [
    "# Speedtest: ndarrays vs lists"
   ]
  },
  {
   "cell_type": "markdown",
   "id": "9674268e",
   "metadata": {},
   "source": [
    "### First setup parameters for the speed test. We 'll be testing time to sum elements in an ndarray versus a list"
   ]
  },
  {
   "cell_type": "code",
   "execution_count": 45,
   "id": "74fa40d1",
   "metadata": {},
   "outputs": [],
   "source": [
    "from numpy import arange\n",
    "from timeit import Timer\n",
    "\n",
    "size = 1000000\n",
    "\n",
    "timeit = 1000"
   ]
  },
  {
   "cell_type": "code",
   "execution_count": 46,
   "id": "3e9a48b9",
   "metadata": {},
   "outputs": [
    {
     "name": "stdout",
     "output_type": "stream",
     "text": [
      "[     0      1      2 ... 999997 999998 999999]\n",
      "\n",
      "<class 'numpy.ndarray'>\n"
     ]
    }
   ],
   "source": [
    "# Create the ndarray with values 0, 1, 2...,size -1\n",
    "\n",
    "nd_array = arange(size)\n",
    "\n",
    "print(nd_array)\n",
    "print()\n",
    "print(type(nd_array))"
   ]
  },
  {
   "cell_type": "code",
   "execution_count": 48,
   "id": "da3f1132",
   "metadata": {},
   "outputs": [
    {
     "name": "stdout",
     "output_type": "stream",
     "text": [
      "Time taken by numpy ndarray: 0.000400  seconds\n"
     ]
    }
   ],
   "source": [
    "# timer expects the operation as a parameters \n",
    "# here we pass nd_array.sum()\n",
    "\n",
    "timer_numpy = Timer(\"nd_array.sum()\", \"from __main__ import nd_array\")\n",
    "\n",
    "\n",
    "print(\"Time taken by numpy ndarray: %f  seconds\" %\n",
    "     (timer_numpy.timeit(timeit)/timeit))\n"
   ]
  },
  {
   "cell_type": "code",
   "execution_count": 49,
   "id": "d52b9cf0",
   "metadata": {},
   "outputs": [
    {
     "name": "stdout",
     "output_type": "stream",
     "text": [
      "[     0      1      2 ... 999997 999998 999999]\n",
      "\n",
      "Time taken by numpy ndarray 0.024472951889038086 seconds.\n"
     ]
    }
   ],
   "source": [
    "# another way to compute time\n",
    "\n",
    "import time\n",
    "\n",
    "start = time.time()\n",
    "\n",
    "\n",
    "nd_array = arange(size)\n",
    "\n",
    "print(nd_array)\n",
    "\n",
    "\n",
    "print(\"\\nTime taken by numpy ndarray %s seconds.\" % (time.time() - start))"
   ]
  },
  {
   "cell_type": "code",
   "execution_count": 54,
   "id": "f827d99a",
   "metadata": {},
   "outputs": [
    {
     "name": "stdout",
     "output_type": "stream",
     "text": [
      "<class 'list'>\n"
     ]
    }
   ],
   "source": [
    "# Create the list with values 0, 1, 2, 3.....,size-1\n",
    "\n",
    "a_list = list(range(size))\n",
    "\n",
    "\n",
    "print(type(a_list))\n"
   ]
  },
  {
   "cell_type": "code",
   "execution_count": 55,
   "id": "ce28aa74",
   "metadata": {},
   "outputs": [
    {
     "name": "stdout",
     "output_type": "stream",
     "text": [
      "Time taken by list: 0.020777 seconds\n"
     ]
    }
   ],
   "source": [
    "# timer expect the operation as a parameter, here we pass sum(a_list)\n",
    "\n",
    "timer_list = Timer(\"sum(a_list)\", \"from __main__ import a_list\")\n",
    "\n",
    "print(\"Time taken by list: %f seconds\" %\n",
    "      (timer_list.timeit(timeit)/timeit))"
   ]
  },
  {
   "cell_type": "code",
   "execution_count": 56,
   "id": "b528b46a",
   "metadata": {},
   "outputs": [
    {
     "name": "stdout",
     "output_type": "stream",
     "text": [
      "\n",
      "Time taken by list 0.03092217445373535 seconds.\n"
     ]
    }
   ],
   "source": [
    "import time\n",
    "\n",
    "start = time.time()\n",
    "\n",
    "a_list = list(range(size))\n",
    "\n",
    "print(\"\\nTime taken by list %s seconds.\" % (time.time() - start))"
   ]
  },
  {
   "cell_type": "code",
   "execution_count": null,
   "id": "dd120f56",
   "metadata": {},
   "outputs": [],
   "source": []
  }
 ],
 "metadata": {
  "kernelspec": {
   "display_name": "Python 3",
   "language": "python",
   "name": "python3"
  },
  "language_info": {
   "codemirror_mode": {
    "name": "ipython",
    "version": 3
   },
   "file_extension": ".py",
   "mimetype": "text/x-python",
   "name": "python",
   "nbconvert_exporter": "python",
   "pygments_lexer": "ipython3",
   "version": "3.8.8"
  }
 },
 "nbformat": 4,
 "nbformat_minor": 5
}
